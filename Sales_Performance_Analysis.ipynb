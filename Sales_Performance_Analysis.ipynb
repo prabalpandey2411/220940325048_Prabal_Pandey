{
  "nbformat": 4,
  "nbformat_minor": 0,
  "metadata": {
    "colab": {
      "provenance": [],
      "authorship_tag": "ABX9TyN1TYh4m62yBN+F9q3AMhZl",
      "include_colab_link": true
    },
    "kernelspec": {
      "name": "python3",
      "display_name": "Python 3"
    },
    "language_info": {
      "name": "python"
    }
  },
  "cells": [
    {
      "cell_type": "markdown",
      "metadata": {
        "id": "view-in-github",
        "colab_type": "text"
      },
      "source": [
        "<a href=\"https://colab.research.google.com/github/prabalpandey2411/220940325048_Prabal_Pandey/blob/main/Sales_Performance_Analysis.ipynb\" target=\"_parent\"><img src=\"https://colab.research.google.com/assets/colab-badge.svg\" alt=\"Open In Colab\"/></a>"
      ]
    },
    {
      "cell_type": "code",
      "execution_count": null,
      "metadata": {
        "id": "feFPQTl02b_-"
      },
      "outputs": [],
      "source": [
        "#pip install pandas numpy matplotlib seaborn\n",
        "#pip install jupyterlab # Optional: If you prefer Jupyter Notebook\n"
      ]
    },
    {
      "cell_type": "code",
      "source": [
        "!wget \"https://www.kaggle.com/datasets/kyanyoga/sample-sales-data?resource=download\"\n"
      ],
      "metadata": {
        "colab": {
          "base_uri": "https://localhost:8080/"
        },
        "id": "hpv9Gh6xDpfE",
        "outputId": "647014ed-8154-4801-a087-0a3b2a47c82a"
      },
      "execution_count": 17,
      "outputs": [
        {
          "output_type": "stream",
          "name": "stdout",
          "text": [
            "--2025-01-18 10:57:02--  https://www.kaggle.com/datasets/kyanyoga/sample-sales-data?resource=download\n",
            "Resolving www.kaggle.com (www.kaggle.com)... 35.244.233.98\n",
            "Connecting to www.kaggle.com (www.kaggle.com)|35.244.233.98|:443... connected.\n",
            "HTTP request sent, awaiting response... 200 OK\n",
            "Length: unspecified [text/html]\n",
            "Saving to: ‘sample-sales-data?resource=download’\n",
            "\n",
            "\r          sample-sa     [<=>                 ]       0  --.-KB/s               \rsample-sales-data?r     [ <=>                ]   9.42K  --.-KB/s    in 0.002s  \n",
            "\n",
            "2025-01-18 10:57:02 (5.76 MB/s) - ‘sample-sales-data?resource=download’ saved [9641]\n",
            "\n"
          ]
        }
      ]
    },
    {
      "cell_type": "code",
      "source": [
        "!ls"
      ],
      "metadata": {
        "colab": {
          "base_uri": "https://localhost:8080/"
        },
        "id": "rPR6Q8M_Elk3",
        "outputId": "ebf1d604-9936-4bfe-fd35-77b7f275271b"
      },
      "execution_count": 19,
      "outputs": [
        {
          "output_type": "stream",
          "name": "stdout",
          "text": [
            " sales_data_sample.csv\t sample_data  'sample-sales-data?resource=download'\n"
          ]
        }
      ]
    },
    {
      "cell_type": "markdown",
      "source": [
        "**Step 2: Load and Inspect Data**\n"
      ],
      "metadata": {
        "id": "E3R37cV-H7YS"
      }
    },
    {
      "cell_type": "code",
      "source": [
        "import pandas as pd\n",
        "df = pd.read_csv('sales_data_sample.csv', encoding='latin1' )\n",
        "print(df.head())\n"
      ],
      "metadata": {
        "colab": {
          "base_uri": "https://localhost:8080/"
        },
        "id": "apZ_08vNErQZ",
        "outputId": "7edef084-64d9-4ab0-e7b3-a1501c722e32"
      },
      "execution_count": 24,
      "outputs": [
        {
          "output_type": "stream",
          "name": "stdout",
          "text": [
            "   ORDERNUMBER  QUANTITYORDERED  PRICEEACH  ORDERLINENUMBER    SALES  \\\n",
            "0        10107               30      95.70                2  2871.00   \n",
            "1        10121               34      81.35                5  2765.90   \n",
            "2        10134               41      94.74                2  3884.34   \n",
            "3        10145               45      83.26                6  3746.70   \n",
            "4        10159               49     100.00               14  5205.27   \n",
            "\n",
            "         ORDERDATE   STATUS  QTR_ID  MONTH_ID  YEAR_ID  ...  \\\n",
            "0   2/24/2003 0:00  Shipped       1         2     2003  ...   \n",
            "1    5/7/2003 0:00  Shipped       2         5     2003  ...   \n",
            "2    7/1/2003 0:00  Shipped       3         7     2003  ...   \n",
            "3   8/25/2003 0:00  Shipped       3         8     2003  ...   \n",
            "4  10/10/2003 0:00  Shipped       4        10     2003  ...   \n",
            "\n",
            "                    ADDRESSLINE1  ADDRESSLINE2           CITY STATE  \\\n",
            "0        897 Long Airport Avenue           NaN            NYC    NY   \n",
            "1             59 rue de l'Abbaye           NaN          Reims   NaN   \n",
            "2  27 rue du Colonel Pierre Avia           NaN          Paris   NaN   \n",
            "3             78934 Hillside Dr.           NaN       Pasadena    CA   \n",
            "4                7734 Strong St.           NaN  San Francisco    CA   \n",
            "\n",
            "  POSTALCODE COUNTRY TERRITORY CONTACTLASTNAME CONTACTFIRSTNAME DEALSIZE  \n",
            "0      10022     USA       NaN              Yu             Kwai    Small  \n",
            "1      51100  France      EMEA         Henriot             Paul    Small  \n",
            "2      75508  France      EMEA        Da Cunha           Daniel   Medium  \n",
            "3      90003     USA       NaN           Young            Julie   Medium  \n",
            "4        NaN     USA       NaN           Brown            Julie   Medium  \n",
            "\n",
            "[5 rows x 25 columns]\n"
          ]
        }
      ]
    },
    {
      "cell_type": "code",
      "source": [
        "print(df.info())\n",
        "print(df.describe())"
      ],
      "metadata": {
        "colab": {
          "base_uri": "https://localhost:8080/"
        },
        "id": "O6_WkLE5HCR3",
        "outputId": "a873f528-42f5-4625-9e6a-7f7b3b3e46d4"
      },
      "execution_count": 25,
      "outputs": [
        {
          "output_type": "stream",
          "name": "stdout",
          "text": [
            "<class 'pandas.core.frame.DataFrame'>\n",
            "RangeIndex: 2823 entries, 0 to 2822\n",
            "Data columns (total 25 columns):\n",
            " #   Column            Non-Null Count  Dtype  \n",
            "---  ------            --------------  -----  \n",
            " 0   ORDERNUMBER       2823 non-null   int64  \n",
            " 1   QUANTITYORDERED   2823 non-null   int64  \n",
            " 2   PRICEEACH         2823 non-null   float64\n",
            " 3   ORDERLINENUMBER   2823 non-null   int64  \n",
            " 4   SALES             2823 non-null   float64\n",
            " 5   ORDERDATE         2823 non-null   object \n",
            " 6   STATUS            2823 non-null   object \n",
            " 7   QTR_ID            2823 non-null   int64  \n",
            " 8   MONTH_ID          2823 non-null   int64  \n",
            " 9   YEAR_ID           2823 non-null   int64  \n",
            " 10  PRODUCTLINE       2823 non-null   object \n",
            " 11  MSRP              2823 non-null   int64  \n",
            " 12  PRODUCTCODE       2823 non-null   object \n",
            " 13  CUSTOMERNAME      2823 non-null   object \n",
            " 14  PHONE             2823 non-null   object \n",
            " 15  ADDRESSLINE1      2823 non-null   object \n",
            " 16  ADDRESSLINE2      302 non-null    object \n",
            " 17  CITY              2823 non-null   object \n",
            " 18  STATE             1337 non-null   object \n",
            " 19  POSTALCODE        2747 non-null   object \n",
            " 20  COUNTRY           2823 non-null   object \n",
            " 21  TERRITORY         1749 non-null   object \n",
            " 22  CONTACTLASTNAME   2823 non-null   object \n",
            " 23  CONTACTFIRSTNAME  2823 non-null   object \n",
            " 24  DEALSIZE          2823 non-null   object \n",
            "dtypes: float64(2), int64(7), object(16)\n",
            "memory usage: 551.5+ KB\n",
            "None\n",
            "        ORDERNUMBER  QUANTITYORDERED    PRICEEACH  ORDERLINENUMBER  \\\n",
            "count   2823.000000      2823.000000  2823.000000      2823.000000   \n",
            "mean   10258.725115        35.092809    83.658544         6.466171   \n",
            "std       92.085478         9.741443    20.174277         4.225841   \n",
            "min    10100.000000         6.000000    26.880000         1.000000   \n",
            "25%    10180.000000        27.000000    68.860000         3.000000   \n",
            "50%    10262.000000        35.000000    95.700000         6.000000   \n",
            "75%    10333.500000        43.000000   100.000000         9.000000   \n",
            "max    10425.000000        97.000000   100.000000        18.000000   \n",
            "\n",
            "              SALES       QTR_ID     MONTH_ID     YEAR_ID         MSRP  \n",
            "count   2823.000000  2823.000000  2823.000000  2823.00000  2823.000000  \n",
            "mean    3553.889072     2.717676     7.092455  2003.81509   100.715551  \n",
            "std     1841.865106     1.203878     3.656633     0.69967    40.187912  \n",
            "min      482.130000     1.000000     1.000000  2003.00000    33.000000  \n",
            "25%     2203.430000     2.000000     4.000000  2003.00000    68.000000  \n",
            "50%     3184.800000     3.000000     8.000000  2004.00000    99.000000  \n",
            "75%     4508.000000     4.000000    11.000000  2004.00000   124.000000  \n",
            "max    14082.800000     4.000000    12.000000  2005.00000   214.000000  \n"
          ]
        }
      ]
    },
    {
      "cell_type": "markdown",
      "source": [
        "**Step 3: Data Cleaning**\n",
        "Actions:\n",
        "\n",
        "Handle missing values.\n",
        "Remove duplicates.\n",
        "Standardize column names.\n"
      ],
      "metadata": {
        "id": "Y1DSPPP0IFuE"
      }
    },
    {
      "cell_type": "code",
      "source": [
        "# Remove duplicates\n",
        "df = df.drop_duplicates()\n",
        "\n",
        "# Handle missing values\n",
        "df.fillna({'Discount': 0}, inplace=True)\n",
        "\n",
        "# Standardize column names\n",
        "df.columns = df.columns.str.strip().str.lower().str.replace(' ', '_')\n",
        "\n",
        "# Verify cleaned data\n",
        "print(df.isnull().sum())\n"
      ],
      "metadata": {
        "colab": {
          "base_uri": "https://localhost:8080/"
        },
        "id": "sMUq9l97IZgT",
        "outputId": "cd1efe64-dbec-460a-98d6-1de3bce821c5"
      },
      "execution_count": 26,
      "outputs": [
        {
          "output_type": "stream",
          "name": "stdout",
          "text": [
            "ordernumber            0\n",
            "quantityordered        0\n",
            "priceeach              0\n",
            "orderlinenumber        0\n",
            "sales                  0\n",
            "orderdate              0\n",
            "status                 0\n",
            "qtr_id                 0\n",
            "month_id               0\n",
            "year_id                0\n",
            "productline            0\n",
            "msrp                   0\n",
            "productcode            0\n",
            "customername           0\n",
            "phone                  0\n",
            "addressline1           0\n",
            "addressline2        2521\n",
            "city                   0\n",
            "state               1486\n",
            "postalcode            76\n",
            "country                0\n",
            "territory           1074\n",
            "contactlastname        0\n",
            "contactfirstname       0\n",
            "dealsize               0\n",
            "dtype: int64\n"
          ]
        }
      ]
    },
    {
      "cell_type": "markdown",
      "source": [
        "**Step 4: Data Exploration**\n",
        "Actions:\n",
        "\n",
        "Summarize data.\n",
        "Identify trends and top performers."
      ],
      "metadata": {
        "id": "e73S2iWFJEFx"
      }
    },
    {
      "cell_type": "code",
      "source": [
        "# Total sales and revenue\n",
        "total_revenue = df['sales'].sum()\n",
        "#units_sold= df[df['quantityordered'] *df['priceeach']].sum()\n",
        "\n",
        "#total_units = df[[df['quantityordered'] *df['priceeach']]].sum()\n",
        "print(f\"Total Revenue: {total_revenue}\")\n",
        "#print(f\"Total Units Sold: {total_units}\")\n",
        "\n",
        "# Top-performing products\n",
        "top_products = df.groupby('productcode')['sales'].sum().sort_values(ascending=False).head(5)\n",
        "print(\"Top Products:\\n\", top_products)\n"
      ],
      "metadata": {
        "colab": {
          "base_uri": "https://localhost:8080/"
        },
        "id": "FV5fFIeTIs96",
        "outputId": "8af6ee08-c33c-47ae-ee89-ca156724c28d"
      },
      "execution_count": 35,
      "outputs": [
        {
          "output_type": "stream",
          "name": "stdout",
          "text": [
            "Total Revenue: 10032628.85\n",
            "Top Products:\n",
            " productcode\n",
            "S18_3232    288245.42\n",
            "S10_1949    191073.03\n",
            "S10_4698    170401.07\n",
            "S12_1108    168585.32\n",
            "S18_2238    154623.95\n",
            "Name: sales, dtype: float64\n"
          ]
        }
      ]
    },
    {
      "cell_type": "markdown",
      "source": [
        "**Step 5: Visualize Trends**\n",
        "Actions:\n",
        "\n",
        "Plot sales trends.\n",
        "Identify seasonal patterns."
      ],
      "metadata": {
        "id": "8cNWx8o9NavZ"
      }
    },
    {
      "cell_type": "code",
      "source": [
        "import matplotlib.pyplot as plt\n",
        "import seaborn as sns\n",
        "\n",
        "# Convert Date to datetime\n",
        "df['orderdate'] = pd.to_datetime(df['orderdate'])\n",
        "\n",
        "# Plot sales trends\n",
        "monthly_sales = df.groupby(df['orderdate'].dt.to_period('M'))['sales'].sum()\n",
        "monthly_sales.plot(kind='line', title='Monthly Sales Trend', figsize=(10, 6))\n",
        "plt.xlabel('Month')\n",
        "plt.ylabel('sales')\n",
        "plt.show()\n"
      ],
      "metadata": {
        "colab": {
          "base_uri": "https://localhost:8080/",
          "height": 580
        },
        "id": "NK04rX5TNVqv",
        "outputId": "e7f7fbe2-361c-4ad7-89b2-46edcdd65d0d"
      },
      "execution_count": 43,
      "outputs": [
        {
          "output_type": "display_data",
          "data": {
            "text/plain": [
              "<Figure size 1000x600 with 1 Axes>"
            ],
            "image/png": "[encoded data removed]"
          },
          "metadata": {}
        }
      ]
    },
    {
      "cell_type": "markdown",
      "source": [
        "**Step 6: Build KPIs**\n",
        "Actions:\n",
        "\n",
        "Calculate metrics like average order value and sales growth rate."
      ],
      "metadata": {
        "id": "axoSFgxoP3F-"
      }
    },
    {
      "cell_type": "code",
      "source": [
        "# Average order value\n",
        "avg_order_value = df['sales'].mean()\n",
        "print(f\"Average Order Value: {avg_order_value}\")\n",
        "\n",
        "# Sales growth rate\n",
        "df['month'] = df['orderdate'].dt.to_period('M')\n",
        "monthly_growth = df.groupby('month')['sales'].sum().pct_change() * 100\n",
        "print(\"Monthly Growth Rate:\\n\", monthly_growth)\n"
      ],
      "metadata": {
        "colab": {
          "base_uri": "https://localhost:8080/"
        },
        "id": "CeTIXT7CN_XD",
        "outputId": "456f0af6-947d-444f-8bf4-d10afcda66f6"
      },
      "execution_count": 45,
      "outputs": [
        {
          "output_type": "stream",
          "name": "stdout",
          "text": [
            "Average Order Value: 3553.889071909316\n",
            "Monthly Growth Rate:\n",
            " month\n",
            "2003-01           NaN\n",
            "2003-02      8.541258\n",
            "2003-03     23.906291\n",
            "2003-04     15.532315\n",
            "2003-05     -4.432548\n",
            "2003-06    -12.762834\n",
            "2003-07     11.690279\n",
            "2003-08      5.367985\n",
            "2003-09     33.448407\n",
            "2003-10    115.283455\n",
            "2003-11     81.216615\n",
            "2003-12    -74.571093\n",
            "2004-01     20.888078\n",
            "2004-02     -1.629267\n",
            "2004-03    -33.936793\n",
            "2004-04      0.201421\n",
            "2004-05     32.641709\n",
            "2004-06      4.840516\n",
            "2004-07     14.117025\n",
            "2004-08     41.069726\n",
            "2004-09    -30.498369\n",
            "2004-10     72.384312\n",
            "2004-11     96.961520\n",
            "2004-12    -65.768023\n",
            "2005-01     -8.921406\n",
            "2005-02      5.490538\n",
            "2005-03      4.488331\n",
            "2005-04    -30.093689\n",
            "2005-05     75.001071\n",
            "Freq: M, Name: sales, dtype: float64\n"
          ]
        }
      ]
    },
    {
      "cell_type": "markdown",
      "source": [
        "**Step 7: Advanced Analysis**\n",
        "Actions:\n",
        "\n",
        "Perform segmentation (e.g., by region or salesperson)."
      ],
      "metadata": {
        "id": "C5SrBZHEQC-x"
      }
    },
    {
      "cell_type": "code",
      "source": [
        "# Revenue by region\n",
        "region_revenue = df.groupby('country')['sales'].sum().sort_values(ascending=False)\n",
        "print(\"Revenue by Region:\\n\", region_revenue)\n",
        "\n",
        "# Plot revenue by region\n",
        "region_revenue.plot(kind='bar', title='Revenue by Region', figsize=(10, 6))\n",
        "plt.xlabel('country')\n",
        "plt.ylabel('sales')\n",
        "plt.show()\n"
      ],
      "metadata": {
        "colab": {
          "base_uri": "https://localhost:8080/",
          "height": 1000
        },
        "id": "NTgZvfWdPruB",
        "outputId": "8da812df-bea7-41d1-b519-eac18e6dc738"
      },
      "execution_count": 46,
      "outputs": [
        {
          "output_type": "stream",
          "name": "stdout",
          "text": [
            "Revenue by Region:\n",
            " country\n",
            "USA            3627982.83\n",
            "Spain          1215686.92\n",
            "France         1110916.52\n",
            "Australia       630623.10\n",
            "UK              478880.46\n",
            "Italy           374674.31\n",
            "Finland         329581.91\n",
            "Norway          307463.70\n",
            "Singapore       288488.41\n",
            "Denmark         245637.15\n",
            "Canada          224078.56\n",
            "Germany         220472.09\n",
            "Sweden          210014.21\n",
            "Austria         202062.53\n",
            "Japan           188167.81\n",
            "Switzerland     117713.56\n",
            "Belgium         108412.62\n",
            "Philippines      94015.73\n",
            "Ireland          57756.43\n",
            "Name: sales, dtype: float64\n"
          ]
        },
        {
          "output_type": "display_data",
          "data": {
            "text/plain": [
              "<Figure size 1000x600 with 1 Axes>"
            ],
            "image/png": "[encoded data removed]"
          },
          "metadata": {}
        }
      ]
    },
    {
      "cell_type": "code",
      "source": [
        "import os\n",
        "\n",
        "# Create the 'content' directory if it doesn't exist\n",
        "os.makedirs(\"content\", exist_ok=True)\n",
        "\n",
        "# Save cleaned data\n",
        "df.to_csv(\"content/cleaned_sales_data.csv\", index=False)"
      ],
      "metadata": {
        "id": "K1E1NP6RR9ns"
      },
      "execution_count": 49,
      "outputs": []
    },
    {
      "cell_type": "code",
      "source": [
        "# Save cleaned data\n",
        "df.to_csv(\"content/cleaned_sales_data.csv\", index=False)\n"
      ],
      "metadata": {
        "id": "ndVahVIOQmCg"
      },
      "execution_count": 50,
      "outputs": []
    },
    {
      "cell_type": "code",
      "source": [
        "!ls -lh content/cleaned_sales_data.csv"
      ],
      "metadata": {
        "colab": {
          "base_uri": "https://localhost:8080/"
        },
        "id": "iqEUn7ilREcQ",
        "outputId": "82be78d8-54bc-4627-e312-1f8ae5488ef4"
      },
      "execution_count": 52,
      "outputs": [
        {
          "output_type": "stream",
          "name": "stdout",
          "text": [
            "-rw-r--r-- 1 root root 528K Jan 18 11:59 content/cleaned_sales_data.csv\n"
          ]
        }
      ]
    },
    {
      "cell_type": "markdown",
      "source": [],
      "metadata": {
        "id": "DSZ1AbVqS7Hh"
      }
    },
    {
      "cell_type": "code",
      "source": [
        "!ls"
      ],
      "metadata": {
        "colab": {
          "base_uri": "https://localhost:8080/"
        },
        "id": "FCwSiljVS8OX",
        "outputId": "039bc0e3-b693-40af-e776-717995dc9693"
      },
      "execution_count": 53,
      "outputs": [
        {
          "output_type": "stream",
          "name": "stdout",
          "text": [
            " content   sales_data_sample.csv   sample_data\t'sample-sales-data?resource=download'\n"
          ]
        }
      ]
    },
    {
      "cell_type": "code",
      "source": [],
      "metadata": {
        "id": "UbmbBHhVS9gv"
      },
      "execution_count": null,
      "outputs": []
    }
  ]
}